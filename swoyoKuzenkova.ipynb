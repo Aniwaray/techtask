{
  "nbformat": 4,
  "nbformat_minor": 0,
  "metadata": {
    "colab": {
      "provenance": []
    },
    "kernelspec": {
      "name": "python3",
      "display_name": "Python 3"
    },
    "language_info": {
      "name": "python"
    }
  },
  "cells": [
    {
      "cell_type": "markdown",
      "source": [
        "Задача 1. Простые числа в заданном диапазоне."
      ],
      "metadata": {
        "id": "FREmSaW4WhbB"
      }
    },
    {
      "cell_type": "code",
      "source": [
        "def prime_numbers(low, high):\n",
        "  list = [] #создаём пустой лист\n",
        "\n",
        "  try: #обработка исключений\n",
        "    int(low) #если тип данных low и high можно перевести в int, то проходимся циклом\n",
        "    int(high)\n",
        "    for i in range(int(low), int(high)+1): #переводим low и high в int и проходимся циклом\n",
        "      list.append(i) #добавляем значение в конец листа\n",
        "      list.sort() #сортируем по возростанию\n",
        "    return list #возвращаем лист\n",
        "  except ValueError: #перехват исключения\n",
        "    return list #возвращаем пустой лист\n",
        "\n",
        "prime_numbers(input(\"Напишите нижнюю границу: \" ), input(\"Напишите верхнюю границу: \"))"
      ],
      "metadata": {
        "colab": {
          "base_uri": "https://localhost:8080/"
        },
        "id": "a8FwvDbTWmjh",
        "outputId": "9e55356c-c021-4781-e40e-fe4c609ccaf9"
      },
      "execution_count": 14,
      "outputs": [
        {
          "name": "stdout",
          "output_type": "stream",
          "text": [
            "Напишите нижнюю границу: rgs\n",
            "Напишите верхнюю границу: 5\n"
          ]
        },
        {
          "output_type": "execute_result",
          "data": {
            "text/plain": [
              "[]"
            ]
          },
          "metadata": {},
          "execution_count": 14
        }
      ]
    },
    {
      "cell_type": "markdown",
      "source": [
        "Задача 2. Статистика текста."
      ],
      "metadata": {
        "id": "hvX3yHXWM3F2"
      }
    },
    {
      "cell_type": "code",
      "source": [
        "def text_stat(filename):\n",
        "    try:\n",
        "      #чтение файла\n",
        "        with open(filename, 'r') as file:\n",
        "            text = file.read()\n",
        "    except FileNotFoundError:\n",
        "        return {'error': 'Файл не найден'}\n",
        "    except:\n",
        "        return {'error': 'Ошибка открытия файла'}\n",
        "\n",
        "    # Расчет частоты использования каждой буквы алфавита\n",
        "    frequency = {}\n",
        "    for char in text:\n",
        "        if char.isalpha():\n",
        "            frequency[char] = frequency.get(char, 0) + 1\n",
        "\n",
        "    # Расчет количества слов в тексте\n",
        "    words = text.split()\n",
        "    word_amount = len(words)\n",
        "\n",
        "    # Расчет количества абзацев в тексте\n",
        "    paragraphs = text.split('\\n')\n",
        "    paragraph_amount = len(paragraphs)\n",
        "\n",
        "    # Расчет доли слов, в которых встречается конкретная буква\n",
        "    letter_percentage = {}\n",
        "    for char in frequency:\n",
        "        count = 0\n",
        "        for word in words:\n",
        "            if char in word:\n",
        "                count += 1\n",
        "        letter_percentage[char] = count / word_amount\n",
        "\n",
        "    # Расчет количества слов, в которых одновременно встречаются буквы обоих алфавитов\n",
        "    bilingual_word_amount = 0\n",
        "    for word in words:\n",
        "        if any(char.isalpha() and ord(char) >= 128 for char in word):\n",
        "            bilingual_word_amount += 1\n",
        "\n",
        "    return {\n",
        "        'frequency/letter_percentage': [frequency, letter_percentage],\n",
        "        'word_amount': word_amount,\n",
        "        'paragraph_amount': paragraph_amount,\n",
        "        'bilingual_word_amount': bilingual_word_amount\n",
        "    }\n",
        "text_stat('sample.txt')"
      ],
      "metadata": {
        "colab": {
          "base_uri": "https://localhost:8080/"
        },
        "id": "uOOigvcrFhnZ",
        "outputId": "b1b265da-cb82-4229-d38c-cf29d30383ea"
      },
      "execution_count": 61,
      "outputs": [
        {
          "output_type": "execute_result",
          "data": {
            "text/plain": [
              "{'frequency': [{'T': 1,\n",
              "   'h': 4,\n",
              "   'i': 10,\n",
              "   's': 11,\n",
              "   'a': 6,\n",
              "   'm': 4,\n",
              "   'p': 2,\n",
              "   'l': 6,\n",
              "   'e': 11,\n",
              "   't': 13,\n",
              "   'x': 1,\n",
              "   'I': 1,\n",
              "   'c': 2,\n",
              "   'o': 7,\n",
              "   'n': 3,\n",
              "   'v': 1,\n",
              "   'r': 5,\n",
              "   'u': 2,\n",
              "   'w': 3,\n",
              "   'd': 4,\n",
              "   'W': 1,\n",
              "   'f': 1,\n",
              "   'L': 1},\n",
              "  {'T': 0.041666666666666664,\n",
              "   'h': 0.16666666666666666,\n",
              "   'i': 0.4166666666666667,\n",
              "   's': 0.4583333333333333,\n",
              "   'a': 0.25,\n",
              "   'm': 0.16666666666666666,\n",
              "   'p': 0.08333333333333333,\n",
              "   'l': 0.20833333333333334,\n",
              "   'e': 0.4166666666666667,\n",
              "   't': 0.4166666666666667,\n",
              "   'x': 0.041666666666666664,\n",
              "   'I': 0.041666666666666664,\n",
              "   'c': 0.08333333333333333,\n",
              "   'o': 0.25,\n",
              "   'n': 0.08333333333333333,\n",
              "   'v': 0.041666666666666664,\n",
              "   'r': 0.20833333333333334,\n",
              "   'u': 0.08333333333333333,\n",
              "   'w': 0.125,\n",
              "   'd': 0.16666666666666666,\n",
              "   'W': 0.041666666666666664,\n",
              "   'f': 0.041666666666666664,\n",
              "   'L': 0.041666666666666664}],\n",
              " 'word_amount': 24,\n",
              " 'paragraph_amount': 4,\n",
              " 'bilingual_word_amount': 0}"
            ]
          },
          "metadata": {},
          "execution_count": 61
        }
      ]
    },
    {
      "cell_type": "markdown",
      "source": [
        "Задача 3. Перевод числа, состоящего из римских цифр, в целое число."
      ],
      "metadata": {
        "id": "HLHVCE-oa89C"
      }
    },
    {
      "cell_type": "code",
      "source": [
        "def roman_numerals_to_int(roman_numeral):\n",
        "  #создаём словарь, где значение - буква, обозначающая римскую цифру, а значение - арабское цифра/число\n",
        "    roman_dict = {'I': 1, 'V': 5, 'X': 10, 'L': 50, 'C': 100, 'D': 500, 'M': 1000}\n",
        "    result = 0 #результат\n",
        "    prev_value = None #предыдущее значение\n",
        "\n",
        "    for i in roman_numeral.upper(): #проходимся по строке, которую мы ввели. метод upper переводит нижний регистр в верхний\n",
        "        if i in roman_dict: #проходимся по словарю\n",
        "            curr_value = roman_dict[i] #текущему значению присваиваем текущий элемент словаря\n",
        "            if prev_value != None and prev_value < curr_value: #если предыдущее значение не равно none и меньше текущего значения, то\n",
        "                result += curr_value - 2 * prev_value #чтобы не добавить предыдущее значение к результату дважды, мы вычитаем 2 * предыдущее значение из текущего значения\n",
        "            else:\n",
        "                result += curr_value #иначе добавляем к результату текущее значение\n",
        "\n",
        "            prev_value = curr_value #присваиваем предыдущему значению текущее значение\n",
        "        else:\n",
        "          return print(None) #иначе возвращаем none\n",
        "\n",
        "    return print(f'{roman_numeral} в десятичной нотации: {result}') #возвращаем результат\n",
        "\n",
        "\n",
        "roman_numerals_to_int(\"xiv\")"
      ],
      "metadata": {
        "colab": {
          "base_uri": "https://localhost:8080/"
        },
        "id": "vrBBhrvta7-X",
        "outputId": "11a17958-8382-4a82-e704-765f867609fd"
      },
      "execution_count": 30,
      "outputs": [
        {
          "output_type": "stream",
          "name": "stdout",
          "text": [
            "xiv в десятичной нотации: 14\n"
          ]
        }
      ]
    },
    {
      "cell_type": "markdown",
      "source": [
        "Тестирование функции"
      ],
      "metadata": {
        "id": "u7oFO2cRqCNk"
      }
    },
    {
      "cell_type": "code",
      "source": [
        "!python \"/content/test.py\""
      ],
      "metadata": {
        "colab": {
          "base_uri": "https://localhost:8080/"
        },
        "id": "Cw04B9QMqC5u",
        "outputId": "29c6f616-de50-4517-9d62-c1f71c5b66e1"
      },
      "execution_count": 32,
      "outputs": [
        {
          "output_type": "stream",
          "name": "stdout",
          "text": [
            "...\n",
            "----------------------------------------------------------------------\n",
            "Ran 3 tests in 0.000s\n",
            "\n",
            "OK\n"
          ]
        }
      ]
    }
  ]
}